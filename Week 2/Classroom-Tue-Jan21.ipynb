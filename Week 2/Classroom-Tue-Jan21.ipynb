{
 "cells": [
  {
   "cell_type": "code",
   "execution_count": 1,
   "metadata": {},
   "outputs": [
    {
     "data": {
      "text/plain": [
       "defined \u001b[32mfunction\u001b[39m \u001b[36mfibonacci\u001b[39m"
      ]
     },
     "execution_count": 1,
     "metadata": {},
     "output_type": "execute_result"
    }
   ],
   "source": [
    "def fibonacci(n: Int): Int = {\n",
    "    if (n <= 2){return  1 }\n",
    "    else { \n",
    "        val v1 = fibonacci(n-1) \n",
    "        val v2 = fibonacci(n-2)\n",
    "        val v3 = v1 + v2\n",
    "        return (v3) }\n",
    "}"
   ]
  },
  {
   "cell_type": "code",
   "execution_count": 2,
   "metadata": {},
   "outputs": [
    {
     "data": {
      "text/plain": [
       "\u001b[36mres1\u001b[39m: \u001b[32mInt\u001b[39m = \u001b[32m55\u001b[39m"
      ]
     },
     "execution_count": 2,
     "metadata": {},
     "output_type": "execute_result"
    }
   ],
   "source": [
    "fibonacci(10)"
   ]
  },
  {
   "cell_type": "code",
   "execution_count": 3,
   "metadata": {},
   "outputs": [
    {
     "data": {
      "text/plain": [
       "\u001b[36mres2\u001b[39m: \u001b[32mInt\u001b[39m = \u001b[32m610\u001b[39m"
      ]
     },
     "execution_count": 3,
     "metadata": {},
     "output_type": "execute_result"
    }
   ],
   "source": [
    "fibonacci(15)"
   ]
  },
  {
   "cell_type": "code",
   "execution_count": 4,
   "metadata": {},
   "outputs": [
    {
     "data": {
      "text/plain": [
       "\u001b[36mres3\u001b[39m: \u001b[32mInt\u001b[39m = \u001b[32m832040\u001b[39m"
      ]
     },
     "execution_count": 4,
     "metadata": {},
     "output_type": "execute_result"
    }
   ],
   "source": [
    "fibonacci(30)"
   ]
  },
  {
   "cell_type": "code",
   "execution_count": 5,
   "metadata": {},
   "outputs": [
    {
     "ename": "",
     "evalue": "",
     "output_type": "error",
     "traceback": [
      "Interrupted!\n  ammonite.$sess.cmd0$Helper.fibonacci(\u001b[32mcmd0.sc\u001b[39m:\u001b[32m3\u001b[39m)\n  ammonite.$sess.cmd0$Helper.fibonacci(\u001b[32mcmd0.sc\u001b[39m:\u001b[32m3\u001b[39m)\n  ammonite.$sess.cmd0$Helper.fibonacci(\u001b[32mcmd0.sc\u001b[39m:\u001b[32m3\u001b[39m)\n  ammonite.$sess.cmd0$Helper.fibonacci(\u001b[32mcmd0.sc\u001b[39m:\u001b[32m3\u001b[39m)\n  ammonite.$sess.cmd0$Helper.fibonacci(\u001b[32mcmd0.sc\u001b[39m:\u001b[32m3\u001b[39m)\n  ammonite.$sess.cmd0$Helper.fibonacci(\u001b[32mcmd0.sc\u001b[39m:\u001b[32m3\u001b[39m)\n  ammonite.$sess.cmd0$Helper.fibonacci(\u001b[32mcmd0.sc\u001b[39m:\u001b[32m3\u001b[39m)\n  ammonite.$sess.cmd0$Helper.fibonacci(\u001b[32mcmd0.sc\u001b[39m:\u001b[32m3\u001b[39m)\n  ammonite.$sess.cmd0$Helper.fibonacci(\u001b[32mcmd0.sc\u001b[39m:\u001b[32m3\u001b[39m)\n  ammonite.$sess.cmd0$Helper.fibonacci(\u001b[32mcmd0.sc\u001b[39m:\u001b[32m3\u001b[39m)\n  ammonite.$sess.cmd0$Helper.fibonacci(\u001b[32mcmd0.sc\u001b[39m:\u001b[32m3\u001b[39m)\n  ammonite.$sess.cmd0$Helper.fibonacci(\u001b[32mcmd0.sc\u001b[39m:\u001b[32m3\u001b[39m)\n  ammonite.$sess.cmd0$Helper.fibonacci(\u001b[32mcmd0.sc\u001b[39m:\u001b[32m3\u001b[39m)\n  ammonite.$sess.cmd0$Helper.fibonacci(\u001b[32mcmd0.sc\u001b[39m:\u001b[32m3\u001b[39m)\n  ammonite.$sess.cmd0$Helper.fibonacci(\u001b[32mcmd0.sc\u001b[39m:\u001b[32m3\u001b[39m)\n  ammonite.$sess.cmd0$Helper.fibonacci(\u001b[32mcmd0.sc\u001b[39m:\u001b[32m3\u001b[39m)\n  ammonite.$sess.cmd0$Helper.fibonacci(\u001b[32mcmd0.sc\u001b[39m:\u001b[32m3\u001b[39m)\n  ammonite.$sess.cmd0$Helper.fibonacci(\u001b[32mcmd0.sc\u001b[39m:\u001b[32m3\u001b[39m)\n  ammonite.$sess.cmd0$Helper.fibonacci(\u001b[32mcmd0.sc\u001b[39m:\u001b[32m3\u001b[39m)\n  ammonite.$sess.cmd0$Helper.fibonacci(\u001b[32mcmd0.sc\u001b[39m:\u001b[32m3\u001b[39m)\n  ammonite.$sess.cmd0$Helper.fibonacci(\u001b[32mcmd0.sc\u001b[39m:\u001b[32m3\u001b[39m)\n  ammonite.$sess.cmd0$Helper.fibonacci(\u001b[32mcmd0.sc\u001b[39m:\u001b[32m3\u001b[39m)\n  ammonite.$sess.cmd0$Helper.fibonacci(\u001b[32mcmd0.sc\u001b[39m:\u001b[32m3\u001b[39m)\n  ammonite.$sess.cmd0$Helper.fibonacci(\u001b[32mcmd0.sc\u001b[39m:\u001b[32m3\u001b[39m)\n  ammonite.$sess.cmd0$Helper.fibonacci(\u001b[32mcmd0.sc\u001b[39m:\u001b[32m3\u001b[39m)\n  ammonite.$sess.cmd0$Helper.fibonacci(\u001b[32mcmd0.sc\u001b[39m:\u001b[32m3\u001b[39m)\n  ammonite.$sess.cmd0$Helper.fibonacci(\u001b[32mcmd0.sc\u001b[39m:\u001b[32m3\u001b[39m)\n  ammonite.$sess.cmd0$Helper.fibonacci(\u001b[32mcmd0.sc\u001b[39m:\u001b[32m3\u001b[39m)\n  ammonite.$sess.cmd0$Helper.fibonacci(\u001b[32mcmd0.sc\u001b[39m:\u001b[32m3\u001b[39m)\n  ammonite.$sess.cmd0$Helper.fibonacci(\u001b[32mcmd0.sc\u001b[39m:\u001b[32m3\u001b[39m)\n  ammonite.$sess.cmd0$Helper.fibonacci(\u001b[32mcmd0.sc\u001b[39m:\u001b[32m3\u001b[39m)\n  ammonite.$sess.cmd0$Helper.fibonacci(\u001b[32mcmd0.sc\u001b[39m:\u001b[32m3\u001b[39m)\n  ammonite.$sess.cmd0$Helper.fibonacci(\u001b[32mcmd0.sc\u001b[39m:\u001b[32m3\u001b[39m)\n  ammonite.$sess.cmd0$Helper.fibonacci(\u001b[32mcmd0.sc\u001b[39m:\u001b[32m3\u001b[39m)\n  ammonite.$sess.cmd0$Helper.fibonacci(\u001b[32mcmd0.sc\u001b[39m:\u001b[32m3\u001b[39m)\n  ammonite.$sess.cmd0$Helper.fibonacci(\u001b[32mcmd0.sc\u001b[39m:\u001b[32m3\u001b[39m)\n  ammonite.$sess.cmd0$Helper.fibonacci(\u001b[32mcmd0.sc\u001b[39m:\u001b[32m3\u001b[39m)\n  ammonite.$sess.cmd0$Helper.fibonacci(\u001b[32mcmd0.sc\u001b[39m:\u001b[32m3\u001b[39m)\n  ammonite.$sess.cmd0$Helper.fibonacci(\u001b[32mcmd0.sc\u001b[39m:\u001b[32m3\u001b[39m)\n  ammonite.$sess.cmd0$Helper.fibonacci(\u001b[32mcmd0.sc\u001b[39m:\u001b[32m3\u001b[39m)\n  ammonite.$sess.cmd0$Helper.fibonacci(\u001b[32mcmd0.sc\u001b[39m:\u001b[32m3\u001b[39m)\n  ammonite.$sess.cmd0$Helper.fibonacci(\u001b[32mcmd0.sc\u001b[39m:\u001b[32m3\u001b[39m)\n  ammonite.$sess.cmd0$Helper.fibonacci(\u001b[32mcmd0.sc\u001b[39m:\u001b[32m3\u001b[39m)\n  ammonite.$sess.cmd0$Helper.fibonacci(\u001b[32mcmd0.sc\u001b[39m:\u001b[32m3\u001b[39m)\n  ammonite.$sess.cmd0$Helper.fibonacci(\u001b[32mcmd0.sc\u001b[39m:\u001b[32m3\u001b[39m)\n  ammonite.$sess.cmd0$Helper.fibonacci(\u001b[32mcmd0.sc\u001b[39m:\u001b[32m3\u001b[39m)\n  ammonite.$sess.cmd0$Helper.fibonacci(\u001b[32mcmd0.sc\u001b[39m:\u001b[32m3\u001b[39m)\n  ammonite.$sess.cmd0$Helper.fibonacci(\u001b[32mcmd0.sc\u001b[39m:\u001b[32m3\u001b[39m)\n  ammonite.$sess.cmd0$Helper.fibonacci(\u001b[32mcmd0.sc\u001b[39m:\u001b[32m3\u001b[39m)\n  ammonite.$sess.cmd0$Helper.fibonacci(\u001b[32mcmd0.sc\u001b[39m:\u001b[32m3\u001b[39m)\n  ammonite.$sess.cmd0$Helper.fibonacci(\u001b[32mcmd0.sc\u001b[39m:\u001b[32m3\u001b[39m)\n  ammonite.$sess.cmd0$Helper.fibonacci(\u001b[32mcmd0.sc\u001b[39m:\u001b[32m3\u001b[39m)\n  ammonite.$sess.cmd0$Helper.fibonacci(\u001b[32mcmd0.sc\u001b[39m:\u001b[32m3\u001b[39m)\n  ammonite.$sess.cmd0$Helper.fibonacci(\u001b[32mcmd0.sc\u001b[39m:\u001b[32m3\u001b[39m)\n  ammonite.$sess.cmd0$Helper.fibonacci(\u001b[32mcmd0.sc\u001b[39m:\u001b[32m3\u001b[39m)\n  ammonite.$sess.cmd0$Helper.fibonacci(\u001b[32mcmd0.sc\u001b[39m:\u001b[32m3\u001b[39m)\n  ammonite.$sess.cmd0$Helper.fibonacci(\u001b[32mcmd0.sc\u001b[39m:\u001b[32m3\u001b[39m)\n  ammonite.$sess.cmd0$Helper.fibonacci(\u001b[32mcmd0.sc\u001b[39m:\u001b[32m3\u001b[39m)\n  ammonite.$sess.cmd0$Helper.fibonacci(\u001b[32mcmd0.sc\u001b[39m:\u001b[32m3\u001b[39m)\n  ammonite.$sess.cmd0$Helper.fibonacci(\u001b[32mcmd0.sc\u001b[39m:\u001b[32m3\u001b[39m)\n  ammonite.$sess.cmd0$Helper.fibonacci(\u001b[32mcmd0.sc\u001b[39m:\u001b[32m3\u001b[39m)\n  ammonite.$sess.cmd0$Helper.fibonacci(\u001b[32mcmd0.sc\u001b[39m:\u001b[32m3\u001b[39m)\n  ammonite.$sess.cmd0$Helper.fibonacci(\u001b[32mcmd0.sc\u001b[39m:\u001b[32m3\u001b[39m)\n  ammonite.$sess.cmd0$Helper.fibonacci(\u001b[32mcmd0.sc\u001b[39m:\u001b[32m3\u001b[39m)\n  ammonite.$sess.cmd0$Helper.fibonacci(\u001b[32mcmd0.sc\u001b[39m:\u001b[32m3\u001b[39m)\n  ammonite.$sess.cmd0$Helper.fibonacci(\u001b[32mcmd0.sc\u001b[39m:\u001b[32m3\u001b[39m)\n  ammonite.$sess.cmd0$Helper.fibonacci(\u001b[32mcmd0.sc\u001b[39m:\u001b[32m3\u001b[39m)\n  ammonite.$sess.cmd0$Helper.fibonacci(\u001b[32mcmd0.sc\u001b[39m:\u001b[32m3\u001b[39m)\n  ammonite.$sess.cmd0$Helper.fibonacci(\u001b[32mcmd0.sc\u001b[39m:\u001b[32m3\u001b[39m)\n  ammonite.$sess.cmd0$Helper.fibonacci(\u001b[32mcmd0.sc\u001b[39m:\u001b[32m3\u001b[39m)\n  ammonite.$sess.cmd0$Helper.fibonacci(\u001b[32mcmd0.sc\u001b[39m:\u001b[32m3\u001b[39m)\n  ammonite.$sess.cmd0$Helper.fibonacci(\u001b[32mcmd0.sc\u001b[39m:\u001b[32m3\u001b[39m)\n  ammonite.$sess.cmd0$Helper.fibonacci(\u001b[32mcmd0.sc\u001b[39m:\u001b[32m3\u001b[39m)\n  ammonite.$sess.cmd0$Helper.fibonacci(\u001b[32mcmd0.sc\u001b[39m:\u001b[32m3\u001b[39m)\n  ammonite.$sess.cmd0$Helper.fibonacci(\u001b[32mcmd0.sc\u001b[39m:\u001b[32m3\u001b[39m)\n  ammonite.$sess.cmd0$Helper.fibonacci(\u001b[32mcmd0.sc\u001b[39m:\u001b[32m3\u001b[39m)\n  ammonite.$sess.cmd0$Helper.fibonacci(\u001b[32mcmd0.sc\u001b[39m:\u001b[32m3\u001b[39m)\n  ammonite.$sess.cmd0$Helper.fibonacci(\u001b[32mcmd0.sc\u001b[39m:\u001b[32m3\u001b[39m)\n  ammonite.$sess.cmd0$Helper.fibonacci(\u001b[32mcmd0.sc\u001b[39m:\u001b[32m3\u001b[39m)\n  ammonite.$sess.cmd0$Helper.fibonacci(\u001b[32mcmd0.sc\u001b[39m:\u001b[32m3\u001b[39m)\n  ammonite.$sess.cmd0$Helper.fibonacci(\u001b[32mcmd0.sc\u001b[39m:\u001b[32m3\u001b[39m)\n  ammonite.$sess.cmd0$Helper.fibonacci(\u001b[32mcmd0.sc\u001b[39m:\u001b[32m3\u001b[39m)\n  ammonite.$sess.cmd0$Helper.fibonacci(\u001b[32mcmd0.sc\u001b[39m:\u001b[32m3\u001b[39m)\n  ammonite.$sess.cmd0$Helper.fibonacci(\u001b[32mcmd0.sc\u001b[39m:\u001b[32m3\u001b[39m)\n  ammonite.$sess.cmd0$Helper.fibonacci(\u001b[32mcmd0.sc\u001b[39m:\u001b[32m3\u001b[39m)\n  ammonite.$sess.cmd0$Helper.fibonacci(\u001b[32mcmd0.sc\u001b[39m:\u001b[32m3\u001b[39m)\n  ammonite.$sess.cmd4$Helper.<init>(\u001b[32mcmd4.sc\u001b[39m:\u001b[32m1\u001b[39m)\n  ammonite.$sess.cmd4$.<init>(\u001b[32mcmd4.sc\u001b[39m:\u001b[32m7\u001b[39m)\n  ammonite.$sess.cmd4$.<clinit>(\u001b[32mcmd4.sc\u001b[39m:\u001b[32m-1\u001b[39m)"
     ]
    }
   ],
   "source": [
    "fibonacci(100)"
   ]
  },
  {
   "cell_type": "code",
   "execution_count": 6,
   "metadata": {},
   "outputs": [
    {
     "data": {
      "text/plain": [
       "defined \u001b[32mfunction\u001b[39m \u001b[36mfoo\u001b[39m\n",
       "defined \u001b[32mfunction\u001b[39m \u001b[36mtailCallFunction\u001b[39m"
      ]
     },
     "execution_count": 6,
     "metadata": {},
     "output_type": "execute_result"
    }
   ],
   "source": [
    "def foo(x: Int): Int = return (x + 1)\n",
    "\n",
    "def tailCallFunction(x: Int): Int = {\n",
    "    val y = x * x\n",
    "    val z = y + y\n",
    "    return foo(z)\n",
    "}\n",
    "\n",
    "def notATailCall(x: Int): Int = {\n",
    "    val y = x * x\n",
    "    val z = foo(y) \n",
    "    val w = z * 2\n",
    "    return w\n",
    "}\n"
   ]
  },
  {
   "cell_type": "code",
   "execution_count": 8,
   "metadata": {},
   "outputs": [
    {
     "data": {
      "text/plain": [
       "defined \u001b[32mfunction\u001b[39m \u001b[36mfactorialNonTail\u001b[39m"
      ]
     },
     "execution_count": 8,
     "metadata": {},
     "output_type": "execute_result"
    }
   ],
   "source": [
    "def factorialNonTail (n: Int): Int = {\n",
    "    if (n <= 1) { return 0 }\n",
    "    else {\n",
    "        // SPILL\n",
    "        val v1 = factorialNonTail(n-1)\n",
    "        val v2 = n * v1\n",
    "        return v2\n",
    "    }\n",
    "}"
   ]
  },
  {
   "cell_type": "code",
   "execution_count": 10,
   "metadata": {},
   "outputs": [
    {
     "data": {
      "text/plain": [
       "defined \u001b[32mfunction\u001b[39m \u001b[36mfactorialTailCall\u001b[39m\n",
       "defined \u001b[32mfunction\u001b[39m \u001b[36mfactorial\u001b[39m"
      ]
     },
     "execution_count": 10,
     "metadata": {},
     "output_type": "execute_result"
    }
   ],
   "source": [
    "def factorialTailCall(acc: Int, n: Int): Int = {\n",
    "    if (n <= 1) { return acc }\n",
    "    else {\n",
    "        return factorialTailCall( acc * n , n - 1)\n",
    "    }\n",
    "}\n",
    "\n",
    "def factorial(n: Int) = factorialTailCall( 1, n)"
   ]
  },
  {
   "cell_type": "code",
   "execution_count": 11,
   "metadata": {},
   "outputs": [
    {
     "data": {
      "text/plain": [
       "defined \u001b[32mfunction\u001b[39m \u001b[36msquareRoot\u001b[39m"
      ]
     },
     "execution_count": 11,
     "metadata": {},
     "output_type": "execute_result"
    }
   ],
   "source": [
    "def squareRoot(n: Int): Int = {\n",
    "    if (n <= 0) { return 0}\n",
    "    var j = 1\n",
    "    while( j * j < n) {\n",
    "        j = j + 1\n",
    "    }\n",
    "    return j\n",
    "}"
   ]
  },
  {
   "cell_type": "code",
   "execution_count": 12,
   "metadata": {},
   "outputs": [
    {
     "data": {
      "text/plain": [
       "\u001b[36mres11\u001b[39m: \u001b[32mInt\u001b[39m = \u001b[32m5\u001b[39m"
      ]
     },
     "execution_count": 12,
     "metadata": {},
     "output_type": "execute_result"
    }
   ],
   "source": [
    "squareRoot(18)"
   ]
  },
  {
   "cell_type": "code",
   "execution_count": 14,
   "metadata": {},
   "outputs": [
    {
     "data": {
      "text/plain": [
       "defined \u001b[32mfunction\u001b[39m \u001b[36msquareRootRec\u001b[39m\n",
       "defined \u001b[32mfunction\u001b[39m \u001b[36msquareRootWrapper\u001b[39m"
      ]
     },
     "execution_count": 14,
     "metadata": {},
     "output_type": "execute_result"
    }
   ],
   "source": [
    "def squareRootRec(j: Int, n: Int): Int = {\n",
    "    if (n <= 0){ return 0 }\n",
    "    if ( j * j < n ){\n",
    "        return squareRootRec(j+1, n)\n",
    "    } else {\n",
    "        return j\n",
    "    }\n",
    "}\n",
    "\n",
    "def squareRootWrapper(n: Int): Int = {\n",
    "    return squareRootRec(1, n)\n",
    "}"
   ]
  },
  {
   "cell_type": "code",
   "execution_count": 15,
   "metadata": {},
   "outputs": [
    {
     "data": {
      "text/plain": [
       "defined \u001b[32mfunction\u001b[39m \u001b[36mfibonacciLoop\u001b[39m"
      ]
     },
     "execution_count": 15,
     "metadata": {},
     "output_type": "execute_result"
    }
   ],
   "source": [
    "def fibonacciLoop(n: Int):Int = {\n",
    "    var acc1 = 1\n",
    "    var acc2 = 1\n",
    "    var j = 1\n",
    "    while (j < n){\n",
    "        val tmp = acc1 + acc2\n",
    "        acc1 = acc2\n",
    "        acc2 = tmp\n",
    "        j = j + 1\n",
    "    }\n",
    "    return acc2\n",
    "}"
   ]
  },
  {
   "cell_type": "code",
   "execution_count": 19,
   "metadata": {},
   "outputs": [
    {
     "data": {
      "text/plain": [
       "defined \u001b[32mfunction\u001b[39m \u001b[36mfibonacciCrazyRec\u001b[39m"
      ]
     },
     "execution_count": 19,
     "metadata": {},
     "output_type": "execute_result"
    }
   ],
   "source": [
    "def fibonacciCrazyRec(n: Int, j: Int = 1, acc1: Int = 1, acc2: Int = 1): Int = {\n",
    "    if (n <= 2){ return 1}\n",
    "    if ( j < n ){\n",
    "        return fibonacciCrazyRec(n, j + 1, acc2, acc1 + acc2)\n",
    "    } else {\n",
    "        return acc2\n",
    "    }\n",
    "}"
   ]
  },
  {
   "cell_type": "code",
   "execution_count": 20,
   "metadata": {},
   "outputs": [
    {
     "data": {
      "text/plain": [
       "\u001b[36mres19\u001b[39m: \u001b[32mInt\u001b[39m = \u001b[32m89\u001b[39m"
      ]
     },
     "execution_count": 20,
     "metadata": {},
     "output_type": "execute_result"
    }
   ],
   "source": [
    "fibonacciCrazyRec(10)"
   ]
  },
  {
   "cell_type": "code",
   "execution_count": 21,
   "metadata": {},
   "outputs": [
    {
     "data": {
      "text/plain": [
       "\u001b[36mres20\u001b[39m: \u001b[32mInt\u001b[39m = \u001b[32m89\u001b[39m"
      ]
     },
     "execution_count": 21,
     "metadata": {},
     "output_type": "execute_result"
    }
   ],
   "source": [
    "fibonacciLoop(10)"
   ]
  },
  {
   "cell_type": "code",
   "execution_count": 22,
   "metadata": {},
   "outputs": [
    {
     "data": {
      "text/plain": [
       "\u001b[36mres21\u001b[39m: \u001b[32mInt\u001b[39m = \u001b[32m-1869596475\u001b[39m"
      ]
     },
     "execution_count": 22,
     "metadata": {},
     "output_type": "execute_result"
    }
   ],
   "source": [
    "fibonacciCrazyRec(100)"
   ]
  },
  {
   "cell_type": "code",
   "execution_count": null,
   "metadata": {},
   "outputs": [],
   "source": []
  }
 ],
 "metadata": {
  "kernelspec": {
   "display_name": "Scala",
   "language": "scala",
   "name": "scala"
  },
  "language_info": {
   "codemirror_mode": "text/x-scala",
   "file_extension": ".scala",
   "mimetype": "text/x-scala",
   "name": "scala",
   "nbconvert_exporter": "script",
   "version": "2.12.10"
  }
 },
 "nbformat": 4,
 "nbformat_minor": 2
}
