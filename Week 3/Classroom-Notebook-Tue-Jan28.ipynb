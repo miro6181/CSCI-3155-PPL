{
 "cells": [
  {
   "cell_type": "markdown",
   "metadata": {},
   "source": [
    "Nonterminal : List, Number\n",
    "\n",
    "List => nil\n",
    "\n",
    "List => Cons(Number, List)\n",
    "\n",
    "Number => ... scala integers.. "
   ]
  },
  {
   "cell_type": "code",
   "execution_count": 8,
   "metadata": {},
   "outputs": [
    {
     "data": {
      "text/plain": [
       "defined \u001b[32mtrait\u001b[39m \u001b[36mList\u001b[39m\n",
       "defined \u001b[32mobject\u001b[39m \u001b[36mNil\u001b[39m\n",
       "defined \u001b[32mclass\u001b[39m \u001b[36mCons\u001b[39m"
      ]
     },
     "execution_count": 8,
     "metadata": {},
     "output_type": "execute_result"
    }
   ],
   "source": [
    "sealed trait List {\n",
    "    def length(): Int\n",
    "    def isEmpty(): Boolean\n",
    "    def retrieveFirstElement(): Int\n",
    "    def isAscendingOrder(): Boolean\n",
    "}\n",
    "case object Nil extends List {\n",
    "    def length(): Int = { 0 }\n",
    "    def isEmpty(): Boolean = true\n",
    "    def retrieveFirstElement(): Int = { assert(false); return 0}\n",
    "    def isAscendingOrder(): Boolean = true\n",
    "}\n",
    "case class Cons(i: Int, l: List) extends List {\n",
    "    def length(): Int = 1 + l.length()\n",
    "    def isEmpty(): Boolean = false\n",
    "    def retrieveFirstElement(): Int = i\n",
    "    \n",
    "    }\n",
    "}"
   ]
  },
  {
   "cell_type": "markdown",
   "metadata": {},
   "source": [
    "List(1,2,3)"
   ]
  },
  {
   "cell_type": "code",
   "execution_count": 4,
   "metadata": {},
   "outputs": [
    {
     "data": {
      "text/plain": [
       "\u001b[36mv1\u001b[39m: \u001b[32mCons\u001b[39m = \u001b[33mCons\u001b[39m(\u001b[32m1\u001b[39m, \u001b[33mCons\u001b[39m(\u001b[32m2\u001b[39m, \u001b[33mCons\u001b[39m(\u001b[32m3\u001b[39m, Nil)))"
      ]
     },
     "execution_count": 4,
     "metadata": {},
     "output_type": "execute_result"
    }
   ],
   "source": [
    "val v1 = Cons(1, Cons(2, Cons(3, Nil)))"
   ]
  },
  {
   "cell_type": "code",
   "execution_count": 5,
   "metadata": {},
   "outputs": [
    {
     "data": {
      "text/plain": [
       "\u001b[36mn1\u001b[39m: \u001b[32mInt\u001b[39m = \u001b[32m3\u001b[39m"
      ]
     },
     "execution_count": 5,
     "metadata": {},
     "output_type": "execute_result"
    }
   ],
   "source": [
    "val n1 = v1.length()"
   ]
  },
  {
   "cell_type": "code",
   "execution_count": 9,
   "metadata": {},
   "outputs": [
    {
     "data": {
      "text/plain": [
       "defined \u001b[32mtrait\u001b[39m \u001b[36mList\u001b[39m\n",
       "defined \u001b[32mobject\u001b[39m \u001b[36mNil\u001b[39m\n",
       "defined \u001b[32mclass\u001b[39m \u001b[36mCons\u001b[39m"
      ]
     },
     "execution_count": 9,
     "metadata": {},
     "output_type": "execute_result"
    }
   ],
   "source": [
    "sealed trait List\n",
    "case object Nil extends List\n",
    "case class Cons(i: Int, l: List) extends List"
   ]
  },
  {
   "cell_type": "code",
   "execution_count": 20,
   "metadata": {},
   "outputs": [
    {
     "data": {
      "text/plain": [
       "defined \u001b[32mfunction\u001b[39m \u001b[36mlengthOfList\u001b[39m"
      ]
     },
     "execution_count": 20,
     "metadata": {},
     "output_type": "execute_result"
    }
   ],
   "source": [
    "def lengthOfList(l: List): Int = l match {\n",
    "        case Nil => 0\n",
    "        case Cons(i1, l1) => { 1 + lengthOfList(l1) }\n",
    "    }\n",
    "    \n"
   ]
  },
  {
   "cell_type": "code",
   "execution_count": 18,
   "metadata": {},
   "outputs": [
    {
     "data": {
      "text/plain": [
       "\u001b[36mv1\u001b[39m: \u001b[32mCons\u001b[39m = \u001b[33mCons\u001b[39m(\u001b[32m1\u001b[39m, \u001b[33mCons\u001b[39m(\u001b[32m2\u001b[39m, \u001b[33mCons\u001b[39m(\u001b[32m3\u001b[39m, Nil)))"
      ]
     },
     "execution_count": 18,
     "metadata": {},
     "output_type": "execute_result"
    }
   ],
   "source": [
    "val v1 = Cons(1, Cons(2, Cons(3, Nil)))"
   ]
  },
  {
   "cell_type": "code",
   "execution_count": 24,
   "metadata": {},
   "outputs": [
    {
     "data": {
      "text/plain": [
       "defined \u001b[32mfunction\u001b[39m \u001b[36mlistHasAtLeastTwoElements\u001b[39m"
      ]
     },
     "execution_count": 24,
     "metadata": {},
     "output_type": "execute_result"
    }
   ],
   "source": [
    "def listHasAtLeastTwoElements(lst: List): Boolean = lst match {\n",
    "    case Nil => false\n",
    "    case Cons(_, Nil) => false\n",
    "    case Cons(_, Cons(_, _)) => true\n",
    "    case _ => { throw new IllegalArgumentException(\"How dare you!\")}\n",
    "}"
   ]
  },
  {
   "cell_type": "code",
   "execution_count": 25,
   "metadata": {},
   "outputs": [
    {
     "data": {
      "text/plain": [
       "\u001b[36mres24\u001b[39m: \u001b[32mBoolean\u001b[39m = true"
      ]
     },
     "execution_count": 25,
     "metadata": {},
     "output_type": "execute_result"
    }
   ],
   "source": [
    "listHasAtLeastTwoElements(v1)"
   ]
  },
  {
   "cell_type": "code",
   "execution_count": 37,
   "metadata": {},
   "outputs": [
    {
     "data": {
      "text/plain": [
       "defined \u001b[32mfunction\u001b[39m \u001b[36misAscendingOrder\u001b[39m"
      ]
     },
     "execution_count": 37,
     "metadata": {},
     "output_type": "execute_result"
    }
   ],
   "source": [
    "def isAscendingOrder (lst: List): Boolean = lst match {\n",
    "    case Nil => true\n",
    "    case Cons(_, Nil) => true\n",
    "    case Cons(i1, tail@ Cons(i2, remainingJunk)) => { \n",
    "        if (i1 > i2) { false }\n",
    "        else {\n",
    "            //val tail = Cons(i2, remainingJunk)\n",
    "            isAscendingOrder(tail)\n",
    "        }               \n",
    "    }\n",
    "    case _ => { throw new IllegalArgumentException(\"How dare you!\")}\n",
    "}"
   ]
  },
  {
   "cell_type": "code",
   "execution_count": 27,
   "metadata": {},
   "outputs": [
    {
     "data": {
      "text/plain": [
       "\u001b[36mres26\u001b[39m: \u001b[32mBoolean\u001b[39m = true"
      ]
     },
     "execution_count": 27,
     "metadata": {},
     "output_type": "execute_result"
    }
   ],
   "source": [
    "isAscendingOrder(v1)"
   ]
  },
  {
   "cell_type": "code",
   "execution_count": 31,
   "metadata": {},
   "outputs": [
    {
     "data": {
      "text/plain": [
       "\u001b[36mv2\u001b[39m: \u001b[32mCons\u001b[39m = \u001b[33mCons\u001b[39m(\u001b[32m5\u001b[39m, Nil)"
      ]
     },
     "execution_count": 31,
     "metadata": {},
     "output_type": "execute_result"
    }
   ],
   "source": [
    "val v2 = Cons(5, Nil)"
   ]
  },
  {
   "cell_type": "code",
   "execution_count": 36,
   "metadata": {},
   "outputs": [
    {
     "data": {
      "text/plain": [
       "\u001b[36mres35\u001b[39m: \u001b[32mBoolean\u001b[39m = true"
      ]
     },
     "execution_count": 36,
     "metadata": {},
     "output_type": "execute_result"
    }
   ],
   "source": [
    "isAscendingOrder(v2)"
   ]
  },
  {
   "cell_type": "code",
   "execution_count": 39,
   "metadata": {},
   "outputs": [
    {
     "data": {
      "text/plain": [
       "defined \u001b[32mfunction\u001b[39m \u001b[36misAscendingOrder\u001b[39m"
      ]
     },
     "execution_count": 39,
     "metadata": {},
     "output_type": "execute_result"
    }
   ],
   "source": [
    "def isAscendingOrder (lst: List): Boolean = lst match {\n",
    "    case Nil => true\n",
    "    case Cons(_, Nil) => true\n",
    "    case Cons(i1,  Cons(i2, remainingJunk)) if (i1 > i2) =>  false\n",
    "    case Cons(i1, tail) => isAscendingOrder(tail)\n",
    "}"
   ]
  },
  {
   "cell_type": "code",
   "execution_count": 43,
   "metadata": {},
   "outputs": [
    {
     "data": {
      "text/plain": [
       "defined \u001b[32mtrait\u001b[39m \u001b[36mBinaryTree\u001b[39m\n",
       "defined \u001b[32mclass\u001b[39m \u001b[36mLeaf\u001b[39m\n",
       "defined \u001b[32mclass\u001b[39m \u001b[36mNode\u001b[39m"
      ]
     },
     "execution_count": 43,
     "metadata": {},
     "output_type": "execute_result"
    }
   ],
   "source": [
    "sealed trait BinaryTree\n",
    "case class Leaf(i: Int) extends BinaryTree\n",
    "case class Node( i: Int, leftSubTree: BinaryTree, \n",
    "                         rightSubTree: BinaryTree) extends BinaryTree"
   ]
  },
  {
   "cell_type": "code",
   "execution_count": 44,
   "metadata": {},
   "outputs": [
    {
     "name": "stderr",
     "output_type": "stream",
     "text": [
      "cmd44.sc:5: could not optimize @tailrec annotated method factorial: it contains a recursive call not in tail position\n",
      "    else 1 + factorial(n * acc, n-1)\n",
      "           ^Compilation Failed"
     ]
    },
    {
     "ename": "",
     "evalue": "",
     "output_type": "error",
     "traceback": [
      "Compilation Failed"
     ]
    }
   ],
   "source": [
    "import scala.annotation.tailrec\n",
    "@tailrec \n",
    "def factorial(acc: Int = 1, n: Int): Int = {\n",
    "    if (n <= 0) 1\n",
    "    else 1 + factorial(n * acc, n-1)\n",
    "}"
   ]
  },
  {
   "cell_type": "code",
   "execution_count": null,
   "metadata": {},
   "outputs": [],
   "source": []
  }
 ],
 "metadata": {
  "kernelspec": {
   "display_name": "Scala",
   "language": "scala",
   "name": "scala"
  },
  "language_info": {
   "codemirror_mode": "text/x-scala",
   "file_extension": ".scala",
   "mimetype": "text/x-scala",
   "name": "scala",
   "nbconvert_exporter": "script",
   "version": "2.12.10"
  }
 },
 "nbformat": 4,
 "nbformat_minor": 2
}
