{
 "cells": [
  {
   "cell_type": "code",
   "execution_count": 25,
   "metadata": {},
   "outputs": [],
   "source": [
    "def e(x):\n",
    "    return (x-8) % 26"
   ]
  },
  {
   "cell_type": "code",
   "execution_count": 30,
   "metadata": {},
   "outputs": [
    {
     "name": "stdout",
     "output_type": "stream",
     "text": [
      "0 : 18\n",
      "1 : 19\n",
      "2 : 20\n",
      "3 : 21\n",
      "4 : 22\n",
      "5 : 23\n",
      "6 : 24\n",
      "7 : 25\n",
      "8 : 0\n",
      "9 : 1\n",
      "10 : 2\n",
      "11 : 3\n",
      "12 : 4\n",
      "13 : 5\n",
      "14 : 6\n",
      "15 : 7\n",
      "16 : 8\n",
      "17 : 9\n",
      "18 : 10\n",
      "19 : 11\n",
      "20 : 12\n",
      "21 : 13\n",
      "22 : 14\n",
      "23 : 15\n",
      "24 : 16\n",
      "25 : 17\n",
      "26 : 18\n"
     ]
    }
   ],
   "source": [
    "for i in range(0,27):\n",
    "    print(str(i) + ' : ' + str(e(i)))"
   ]
  },
  {
   "cell_type": "code",
   "execution_count": null,
   "metadata": {},
   "outputs": [],
   "source": []
  }
 ],
 "metadata": {
  "kernelspec": {
   "display_name": "conda_python3",
   "language": "python",
   "name": "conda_python3"
  },
  "language_info": {
   "codemirror_mode": {
    "name": "ipython",
    "version": 3
   },
   "file_extension": ".py",
   "mimetype": "text/x-python",
   "name": "python",
   "nbconvert_exporter": "python",
   "pygments_lexer": "ipython3",
   "version": "3.6.5"
  }
 },
 "nbformat": 4,
 "nbformat_minor": 2
}
